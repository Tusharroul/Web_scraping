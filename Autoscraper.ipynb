{
 "cells": [
  {
   "cell_type": "code",
   "execution_count": 1,
   "metadata": {},
   "outputs": [
    {
     "name": "stdout",
     "output_type": "stream",
     "text": [
      "Collecting autoscraper\n",
      "  Downloading autoscraper-1.1.12-py3-none-any.whl (10 kB)\n",
      "Requirement already satisfied: requests in c:\\users\\viplmarental109\\anaconda3\\lib\\site-packages (from autoscraper) (2.24.0)\n",
      "Requirement already satisfied: bs4 in c:\\users\\viplmarental109\\anaconda3\\lib\\site-packages (from autoscraper) (0.0.1)\n",
      "Requirement already satisfied: lxml in c:\\users\\viplmarental109\\anaconda3\\lib\\site-packages (from autoscraper) (4.5.0)\n",
      "Requirement already satisfied: urllib3!=1.25.0,!=1.25.1,<1.26,>=1.21.1 in c:\\users\\viplmarental109\\anaconda3\\lib\\site-packages (from requests->autoscraper) (1.25.9)\n",
      "Requirement already satisfied: certifi>=2017.4.17 in c:\\users\\viplmarental109\\anaconda3\\lib\\site-packages (from requests->autoscraper) (2020.6.20)\n",
      "Requirement already satisfied: chardet<4,>=3.0.2 in c:\\users\\viplmarental109\\anaconda3\\lib\\site-packages (from requests->autoscraper) (3.0.4)\n",
      "Requirement already satisfied: idna<3,>=2.5 in c:\\users\\viplmarental109\\anaconda3\\lib\\site-packages (from requests->autoscraper) (2.10)\n",
      "Requirement already satisfied: beautifulsoup4 in c:\\users\\viplmarental109\\anaconda3\\lib\\site-packages (from bs4->autoscraper) (4.9.1)\n",
      "Requirement already satisfied: soupsieve>1.2 in c:\\users\\viplmarental109\\anaconda3\\lib\\site-packages (from beautifulsoup4->bs4->autoscraper) (2.0.1)\n",
      "Installing collected packages: autoscraper\n",
      "Successfully installed autoscraper-1.1.12\n"
     ]
    }
   ],
   "source": [
    "!pip install autoscraper"
   ]
  },
  {
   "cell_type": "code",
   "execution_count": 2,
   "metadata": {},
   "outputs": [],
   "source": [
    "from autoscraper import AutoScraper"
   ]
  },
  {
   "cell_type": "code",
   "execution_count": 3,
   "metadata": {},
   "outputs": [],
   "source": [
    "url = \"https://github.com/Tusharroul?tab=repositories\""
   ]
  },
  {
   "cell_type": "code",
   "execution_count": 4,
   "metadata": {},
   "outputs": [],
   "source": [
    "wanted_list = ['python', 'PhonePe-Sentiment-Analysis']"
   ]
  },
  {
   "cell_type": "code",
   "execution_count": 5,
   "metadata": {},
   "outputs": [
    {
     "name": "stdout",
     "output_type": "stream",
     "text": [
      "['source', 'fork', 'archived', 'mirror', 'python', 'makefile', 'jupyter notebook', 'stargazers', 'simple-dvc-demo', 'mlops_mains', 'mlops_main', 'Medical-Appointment-Show-No-Show', 'Newyork-Airbnb-price-prediction', 'PhonePe-Sentiment-Analysis', 'Predicting-car-price']\n"
     ]
    }
   ],
   "source": [
    "scraper = AutoScraper()\n",
    "result = scraper.build(url, wanted_list)\n",
    "print(result)"
   ]
  },
  {
   "cell_type": "code",
   "execution_count": 6,
   "metadata": {},
   "outputs": [
    {
     "data": {
      "text/plain": [
       "{'rule_m58t': ['source',\n",
       "  'fork',\n",
       "  'archived',\n",
       "  'mirror',\n",
       "  'python',\n",
       "  'makefile',\n",
       "  'jupyter notebook',\n",
       "  'stargazers'],\n",
       " 'rule_rh5i': ['simple-dvc-demo',\n",
       "  'mlops_mains',\n",
       "  'mlops_main',\n",
       "  'Medical-Appointment-Show-No-Show',\n",
       "  'Newyork-Airbnb-price-prediction',\n",
       "  'PhonePe-Sentiment-Analysis',\n",
       "  'Predicting-car-price']}"
      ]
     },
     "execution_count": 6,
     "metadata": {},
     "output_type": "execute_result"
    }
   ],
   "source": [
    "result1 = scraper.get_result_similar('https://github.com/Tusharroul?tab=repositories', grouped = True)\n",
    "result1"
   ]
  },
  {
   "cell_type": "code",
   "execution_count": 7,
   "metadata": {},
   "outputs": [],
   "source": [
    "scraper.set_rule_aliases({'rule_m58t' : \"Type\", \"rule_rh5i\" : \"Title\"})\n",
    "scraper.keep_rules(['rule_m58t', 'rule_rh5i'])\n",
    "scraper.save('github-repository-search')"
   ]
  },
  {
   "cell_type": "code",
   "execution_count": 8,
   "metadata": {},
   "outputs": [],
   "source": [
    "scraper.load('github-repository-search')"
   ]
  },
  {
   "cell_type": "code",
   "execution_count": 9,
   "metadata": {},
   "outputs": [
    {
     "data": {
      "text/plain": [
       "{'Type': ['source',\n",
       "  'fork',\n",
       "  'archived',\n",
       "  'mirror',\n",
       "  'python',\n",
       "  'java',\n",
       "  'dockerfile',\n",
       "  'html',\n",
       "  'javascript',\n",
       "  'rust',\n",
       "  'c++',\n",
       "  'julia',\n",
       "  'c',\n",
       "  'stargazers'],\n",
       " 'Title': ['mlframework',\n",
       "  'approachingalmost',\n",
       "  'captcha-recognition-pytorch',\n",
       "  'tez',\n",
       "  'movie_recommender',\n",
       "  'csv_test',\n",
       "  'colabcode',\n",
       "  'bert-entity-extraction',\n",
       "  'abhishekkrthakur',\n",
       "  'imagededup\\n\\n\\n          Forked from idealo/imagededup',\n",
       "  'GermaNER\\n\\n\\n          Forked from tudarmstadt-lt/GermaNER',\n",
       "  'aaamlp_figures',\n",
       "  'wtfml\\nArchived',\n",
       "  'transformers\\n\\n\\n          Forked from huggingface/transformers',\n",
       "  'testing',\n",
       "  'moa-kaggle',\n",
       "  'competitions-template',\n",
       "  'images',\n",
       "  'bert-sentiment',\n",
       "  'ml_dev_env',\n",
       "  'ApproachingAlmostNLP',\n",
       "  'startbootstrap-landing-page\\nTemplate\\n\\n\\n          Forked from StartBootstrap/startbootstrap-landing-page',\n",
       "  'melanoma-deep-learning',\n",
       "  'autonlp',\n",
       "  'git_test',\n",
       "  'bert-tweet-sentiment',\n",
       "  'tokenizers\\n\\n\\n          Forked from huggingface/tokenizers',\n",
       "  'e01',\n",
       "  'sandesh',\n",
       "  'knockknock\\n\\n\\n          Forked from huggingface/knockknock']}"
      ]
     },
     "execution_count": 9,
     "metadata": {},
     "output_type": "execute_result"
    }
   ],
   "source": [
    "result2 = scraper.get_result_similar(\"https://github.com/abhi1thakur?tab=repositories\", group_by_alias=True)\n",
    "result2"
   ]
  },
  {
   "cell_type": "code",
   "execution_count": null,
   "metadata": {},
   "outputs": [],
   "source": []
  }
 ],
 "metadata": {
  "kernelspec": {
   "display_name": "Python 3",
   "language": "python",
   "name": "python3"
  },
  "language_info": {
   "codemirror_mode": {
    "name": "ipython",
    "version": 3
   },
   "file_extension": ".py",
   "mimetype": "text/x-python",
   "name": "python",
   "nbconvert_exporter": "python",
   "pygments_lexer": "ipython3",
   "version": "3.7.6"
  }
 },
 "nbformat": 4,
 "nbformat_minor": 4
}
