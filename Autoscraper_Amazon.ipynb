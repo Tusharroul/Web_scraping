{
 "cells": [
  {
   "cell_type": "code",
   "execution_count": 1,
   "metadata": {},
   "outputs": [],
   "source": [
    "from autoscraper import AutoScraper"
   ]
  },
  {
   "cell_type": "code",
   "execution_count": 2,
   "metadata": {},
   "outputs": [],
   "source": [
    "amazon_url = \"https://www.amazon.in/s?k=head+phones&ref=nb_sb_noss_2\""
   ]
  },
  {
   "cell_type": "code",
   "execution_count": 3,
   "metadata": {},
   "outputs": [],
   "source": [
    "wanted_list = [\"2,499\", \"Fire-Boltt Blast 1400 Over -Ear Bluetooth Wireless Headphones with 25H Playtime, Thumping Bass, Lightweight Foldable Compact Design with Google/Siri Voice Assistance\", \"3,544\"]"
   ]
  },
  {
   "cell_type": "code",
   "execution_count": 5,
   "metadata": {},
   "outputs": [
    {
     "name": "stdout",
     "output_type": "stream",
     "text": [
      "['2,499', '1,499', '4,999', '1,799', '2,774', '7,999', 'Boult Audio BassBuds X1 in-Ear Wired Earphones with 10mm Extra Bass Driver and HD Sound with mic(Black)', 'Fire-Boltt Blast 1400 Over -Ear Bluetooth Wireless Headphones with 25H Playtime, Thumping Bass, Lightweight Foldable Compact Design with Google/Siri Voice Assistance', 'WeCool Moonwalk Mini Earbuds with Magnetic Charging Case IPX5 Wireless Earphones with Digital Battery Indicator for Crisp Sound Bluetooth Earphones for Secure Sports Fit', 'boAt Rockerz 450 Bluetooth On-Ear Headphone with Mic(Aqua Blue)', 'Marshall Major III On-Ear Headphones (White)', 'Lumiford HD70 Over-Ear Wireless HD True Bass Headphones with Built-in mic, Dual Phone Connection Technology, Google/Siri Voice Assistance and Multi-Connection (AUX/FM/SD Card) (Black)', 'Marshall 4090939 Mode in-Ear Headphones (Black/White)', 'Marshall Minor II Bluetooth in-Ear Headphone (White)', '3,544', 'Save ₹2,500 (50%)', '21,679', 'Save ₹2,491 (62%)', '239', 'Save ₹1,500 (23%)', '14', 'Save ₹1,900 (51%)', 'FREE Delivery by Amazon', 'Deal is 6% Claimed', '877', 'Save ₹1,725 (38%)', '1,493', 'Save ₹3,000 (27%)', 'Only 1 left in stock.']\n"
     ]
    }
   ],
   "source": [
    "scraper = AutoScraper()\n",
    "result = scraper.build(amazon_url, wanted_list)\n",
    "print(result)"
   ]
  },
  {
   "cell_type": "code",
   "execution_count": 6,
   "metadata": {},
   "outputs": [
    {
     "data": {
      "text/plain": [
       "{'rule_zmbh': ['2,499', '1,499', '4,999', '1,799', '2,774', '7,999'],\n",
       " 'rule_kbbd': ['Boult Audio BassBuds X1 in-Ear Wired Earphones with 10mm Extra Bass Driver and HD Sound with mic(Black)',\n",
       "  'Fire-Boltt Blast 1400 Over -Ear Bluetooth Wireless Headphones with 25H Playtime, Thumping Bass, Lightweight Foldable Compact Design with Google/Siri Voice Assistance',\n",
       "  'WeCool Moonwalk Mini Earbuds with Magnetic Charging Case IPX5 Wireless Earphones with Digital Battery Indicator for Crisp Sound Bluetooth Earphones for Secure Sports Fit'],\n",
       " 'rule_ar2y': [],\n",
       " 'rule_5e6o': ['Save ₹2,500 (50%)',\n",
       "  'Save ₹2,491 (62%)',\n",
       "  'Save ₹1,500 (23%)',\n",
       "  'Save ₹1,900 (51%)',\n",
       "  'FREE Delivery by Amazon',\n",
       "  'Deal is 6% Claimed',\n",
       "  'Save ₹1,725 (38%)',\n",
       "  'Save ₹3,000 (27%)',\n",
       "  'Only 1 left in stock.']}"
      ]
     },
     "execution_count": 6,
     "metadata": {},
     "output_type": "execute_result"
    }
   ],
   "source": [
    "result1 = scraper.get_result_similar('https://www.amazon.in/s?k=head+phones&ref=nb_sb_noss_2', grouped = True)\n",
    "result1"
   ]
  },
  {
   "cell_type": "code",
   "execution_count": 10,
   "metadata": {},
   "outputs": [],
   "source": [
    "scraper.set_rule_aliases({'rule_zmbh' : \"Price\", \"rule_kbbd\" : \"Name\", \"rule_ar2y\" : \"Nothing\", \"rule_5e6o\" : \"review\"})\n",
    "scraper.keep_rules(['rule_zmbh', 'rule_kbbd', 'rule_ar2y', 'rule_5e6o' ])\n",
    "scraper.save('Amazon-search')"
   ]
  },
  {
   "cell_type": "code",
   "execution_count": 11,
   "metadata": {},
   "outputs": [],
   "source": [
    "scraper.load('Amazon-search')"
   ]
  },
  {
   "cell_type": "code",
   "execution_count": 12,
   "metadata": {},
   "outputs": [
    {
     "data": {
      "text/plain": [
       "{'Price': ['29,999', '13,499', '43,999', '54,999', '18,990', '6,619'],\n",
       " 'Name': ['OnePlus Nord 5G (Blue Marble, 12GB RAM, 256GB Storage)',\n",
       "  'OnePlus 9 Pro 5G (Morning Mist, 8GB RAM, 128GB Storage)'],\n",
       " 'Nothing': [],\n",
       " 'review': ['Save ₹2,000 (13%)', 'Save ₹2,000 (10%)']}"
      ]
     },
     "execution_count": 12,
     "metadata": {},
     "output_type": "execute_result"
    }
   ],
   "source": [
    "result2 = scraper.get_result_similar(\"https://www.amazon.in/s?i=aps&k=phones&ref=nb_sb_noss_2&url=search-alias%3Daps\", group_by_alias=True)\n",
    "result2"
   ]
  },
  {
   "cell_type": "code",
   "execution_count": null,
   "metadata": {},
   "outputs": [],
   "source": []
  }
 ],
 "metadata": {
  "kernelspec": {
   "display_name": "Python 3",
   "language": "python",
   "name": "python3"
  },
  "language_info": {
   "codemirror_mode": {
    "name": "ipython",
    "version": 3
   },
   "file_extension": ".py",
   "mimetype": "text/x-python",
   "name": "python",
   "nbconvert_exporter": "python",
   "pygments_lexer": "ipython3",
   "version": "3.7.6"
  }
 },
 "nbformat": 4,
 "nbformat_minor": 4
}
